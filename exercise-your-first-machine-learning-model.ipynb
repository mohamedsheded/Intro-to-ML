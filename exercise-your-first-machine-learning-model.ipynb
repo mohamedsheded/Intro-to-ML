{
 "cells": [
  {
   "cell_type": "markdown",
   "id": "050ba703",
   "metadata": {
    "papermill": {
     "duration": 0.004763,
     "end_time": "2022-06-29T16:16:40.149259",
     "exception": false,
     "start_time": "2022-06-29T16:16:40.144496",
     "status": "completed"
    },
    "tags": []
   },
   "source": [
    "**This notebook is an exercise in the [Introduction to Machine Learning](https://www.kaggle.com/learn/intro-to-machine-learning) course.  You can reference the tutorial at [this link](https://www.kaggle.com/dansbecker/your-first-machine-learning-model).**\n",
    "\n",
    "---\n"
   ]
  },
  {
   "cell_type": "markdown",
   "id": "bc39e48f",
   "metadata": {
    "papermill": {
     "duration": 0.003693,
     "end_time": "2022-06-29T16:16:40.156942",
     "exception": false,
     "start_time": "2022-06-29T16:16:40.153249",
     "status": "completed"
    },
    "tags": []
   },
   "source": [
    "## Recap\n",
    "So far, you have loaded your data and reviewed it with the following code. Run this cell to set up your coding environment where the previous step left off."
   ]
  },
  {
   "cell_type": "code",
   "execution_count": 1,
   "id": "560c5fd9",
   "metadata": {
    "execution": {
     "iopub.execute_input": "2022-06-29T16:16:40.166620Z",
     "iopub.status.busy": "2022-06-29T16:16:40.166033Z",
     "iopub.status.idle": "2022-06-29T16:16:41.551444Z",
     "shell.execute_reply": "2022-06-29T16:16:41.550199Z"
    },
    "papermill": {
     "duration": 1.392718,
     "end_time": "2022-06-29T16:16:41.553526",
     "exception": false,
     "start_time": "2022-06-29T16:16:40.160808",
     "status": "completed"
    },
    "tags": []
   },
   "outputs": [
    {
     "name": "stdout",
     "output_type": "stream",
     "text": [
      "Setup Complete\n"
     ]
    }
   ],
   "source": [
    "# Code you have previously used to load data\n",
    "import pandas as pd\n",
    "\n",
    "# Path of the file to read\n",
    "iowa_file_path = '../input/home-data-for-ml-course/train.csv'\n",
    "\n",
    "home_data = pd.read_csv(iowa_file_path)\n",
    "\n",
    "# Set up code checking\n",
    "from learntools.core import binder\n",
    "binder.bind(globals())\n",
    "from learntools.machine_learning.ex3 import *\n",
    "\n",
    "print(\"Setup Complete\")"
   ]
  },
  {
   "cell_type": "markdown",
   "id": "c6c9b3ab",
   "metadata": {
    "papermill": {
     "duration": 0.003954,
     "end_time": "2022-06-29T16:16:41.561857",
     "exception": false,
     "start_time": "2022-06-29T16:16:41.557903",
     "status": "completed"
    },
    "tags": []
   },
   "source": [
    "# Exercises\n",
    "\n",
    "## Step 1: Specify Prediction Target\n",
    "Select the target variable, which corresponds to the sales price. Save this to a new variable called `y`. You'll need to print a list of the columns to find the name of the column you need.\n"
   ]
  },
  {
   "cell_type": "code",
   "execution_count": 2,
   "id": "70f805e3",
   "metadata": {
    "execution": {
     "iopub.execute_input": "2022-06-29T16:16:41.571937Z",
     "iopub.status.busy": "2022-06-29T16:16:41.571561Z",
     "iopub.status.idle": "2022-06-29T16:16:41.581482Z",
     "shell.execute_reply": "2022-06-29T16:16:41.580416Z"
    },
    "papermill": {
     "duration": 0.017946,
     "end_time": "2022-06-29T16:16:41.583803",
     "exception": false,
     "start_time": "2022-06-29T16:16:41.565857",
     "status": "completed"
    },
    "tags": []
   },
   "outputs": [
    {
     "data": {
      "text/plain": [
       "Index(['Id', 'MSSubClass', 'MSZoning', 'LotFrontage', 'LotArea', 'Street',\n",
       "       'Alley', 'LotShape', 'LandContour', 'Utilities', 'LotConfig',\n",
       "       'LandSlope', 'Neighborhood', 'Condition1', 'Condition2', 'BldgType',\n",
       "       'HouseStyle', 'OverallQual', 'OverallCond', 'YearBuilt', 'YearRemodAdd',\n",
       "       'RoofStyle', 'RoofMatl', 'Exterior1st', 'Exterior2nd', 'MasVnrType',\n",
       "       'MasVnrArea', 'ExterQual', 'ExterCond', 'Foundation', 'BsmtQual',\n",
       "       'BsmtCond', 'BsmtExposure', 'BsmtFinType1', 'BsmtFinSF1',\n",
       "       'BsmtFinType2', 'BsmtFinSF2', 'BsmtUnfSF', 'TotalBsmtSF', 'Heating',\n",
       "       'HeatingQC', 'CentralAir', 'Electrical', '1stFlrSF', '2ndFlrSF',\n",
       "       'LowQualFinSF', 'GrLivArea', 'BsmtFullBath', 'BsmtHalfBath', 'FullBath',\n",
       "       'HalfBath', 'BedroomAbvGr', 'KitchenAbvGr', 'KitchenQual',\n",
       "       'TotRmsAbvGrd', 'Functional', 'Fireplaces', 'FireplaceQu', 'GarageType',\n",
       "       'GarageYrBlt', 'GarageFinish', 'GarageCars', 'GarageArea', 'GarageQual',\n",
       "       'GarageCond', 'PavedDrive', 'WoodDeckSF', 'OpenPorchSF',\n",
       "       'EnclosedPorch', '3SsnPorch', 'ScreenPorch', 'PoolArea', 'PoolQC',\n",
       "       'Fence', 'MiscFeature', 'MiscVal', 'MoSold', 'YrSold', 'SaleType',\n",
       "       'SaleCondition', 'SalePrice'],\n",
       "      dtype='object')"
      ]
     },
     "execution_count": 2,
     "metadata": {},
     "output_type": "execute_result"
    }
   ],
   "source": [
    "# print the list of columns in the dataset to find the name of the prediction target\n",
    "home_data.columns"
   ]
  },
  {
   "cell_type": "code",
   "execution_count": 3,
   "id": "0df9b7ec",
   "metadata": {
    "execution": {
     "iopub.execute_input": "2022-06-29T16:16:41.600223Z",
     "iopub.status.busy": "2022-06-29T16:16:41.599343Z",
     "iopub.status.idle": "2022-06-29T16:16:41.610935Z",
     "shell.execute_reply": "2022-06-29T16:16:41.610305Z"
    },
    "papermill": {
     "duration": 0.021836,
     "end_time": "2022-06-29T16:16:41.612881",
     "exception": false,
     "start_time": "2022-06-29T16:16:41.591045",
     "status": "completed"
    },
    "tags": []
   },
   "outputs": [
    {
     "data": {
      "application/javascript": [
       "parent.postMessage({\"jupyterEvent\": \"custom.exercise_interaction\", \"data\": {\"outcomeType\": 1, \"valueTowardsCompletion\": 0.25, \"interactionType\": 1, \"questionType\": 2, \"questionId\": \"1_SetTarget\", \"learnToolsVersion\": \"0.3.4\", \"failureMessage\": \"\", \"exceptionClass\": \"\", \"trace\": \"\"}}, \"*\")"
      ],
      "text/plain": [
       "<IPython.core.display.Javascript object>"
      ]
     },
     "metadata": {},
     "output_type": "display_data"
    },
    {
     "data": {
      "text/markdown": [
       "<span style=\"color:#33cc33\">Correct</span>"
      ],
      "text/plain": [
       "Correct"
      ]
     },
     "metadata": {},
     "output_type": "display_data"
    }
   ],
   "source": [
    "#prediction target\n",
    "y = home_data.SalePrice\n",
    "\n",
    "# Check your answer\n",
    "step_1.check()"
   ]
  },
  {
   "cell_type": "code",
   "execution_count": 4,
   "id": "6ddd8cfd",
   "metadata": {
    "execution": {
     "iopub.execute_input": "2022-06-29T16:16:41.629108Z",
     "iopub.status.busy": "2022-06-29T16:16:41.628027Z",
     "iopub.status.idle": "2022-06-29T16:16:41.632842Z",
     "shell.execute_reply": "2022-06-29T16:16:41.632072Z"
    },
    "papermill": {
     "duration": 0.015107,
     "end_time": "2022-06-29T16:16:41.635041",
     "exception": false,
     "start_time": "2022-06-29T16:16:41.619934",
     "status": "completed"
    },
    "tags": []
   },
   "outputs": [],
   "source": [
    "# The lines below will show you a hint or the solution.\n",
    "# step_1.hint() \n",
    "#step_1.solution()"
   ]
  },
  {
   "cell_type": "markdown",
   "id": "329446f6",
   "metadata": {
    "papermill": {
     "duration": 0.006445,
     "end_time": "2022-06-29T16:16:41.648466",
     "exception": false,
     "start_time": "2022-06-29T16:16:41.642021",
     "status": "completed"
    },
    "tags": []
   },
   "source": [
    "## Step 2: Create X\n",
    "Now you will create a DataFrame called `X` holding the predictive features.\n",
    "\n",
    "Since you want only some columns from the original data, you'll first create a list with the names of the columns you want in `X`.\n",
    "\n",
    "You'll use just the following columns in the list (you can copy and paste the whole list to save some typing, though you'll still need to add quotes):\n",
    "  * LotArea\n",
    "  * YearBuilt\n",
    "  * 1stFlrSF\n",
    "  * 2ndFlrSF\n",
    "  * FullBath\n",
    "  * BedroomAbvGr\n",
    "  * TotRmsAbvGrd\n",
    "\n",
    "After you've created that list of features, use it to create the DataFrame that you'll use to fit the model."
   ]
  },
  {
   "cell_type": "code",
   "execution_count": 5,
   "id": "26d52f6c",
   "metadata": {
    "execution": {
     "iopub.execute_input": "2022-06-29T16:16:41.663015Z",
     "iopub.status.busy": "2022-06-29T16:16:41.662723Z",
     "iopub.status.idle": "2022-06-29T16:16:41.676680Z",
     "shell.execute_reply": "2022-06-29T16:16:41.675641Z"
    },
    "papermill": {
     "duration": 0.023592,
     "end_time": "2022-06-29T16:16:41.678792",
     "exception": false,
     "start_time": "2022-06-29T16:16:41.655200",
     "status": "completed"
    },
    "tags": []
   },
   "outputs": [
    {
     "data": {
      "application/javascript": [
       "parent.postMessage({\"jupyterEvent\": \"custom.exercise_interaction\", \"data\": {\"outcomeType\": 1, \"valueTowardsCompletion\": 0.25, \"interactionType\": 1, \"questionType\": 2, \"questionId\": \"2_SelectPredictionData\", \"learnToolsVersion\": \"0.3.4\", \"failureMessage\": \"\", \"exceptionClass\": \"\", \"trace\": \"\"}}, \"*\")"
      ],
      "text/plain": [
       "<IPython.core.display.Javascript object>"
      ]
     },
     "metadata": {},
     "output_type": "display_data"
    },
    {
     "data": {
      "text/markdown": [
       "<span style=\"color:#33cc33\">Correct</span>"
      ],
      "text/plain": [
       "Correct"
      ]
     },
     "metadata": {},
     "output_type": "display_data"
    }
   ],
   "source": [
    "# Create the list' of features below\n",
    "feature_names = ['LotArea','YearBuilt' ,'1stFlrSF','2ndFlrSF','FullBath','BedroomAbvGr','TotRmsAbvGrd']\n",
    "\n",
    "# Select data corresponding to features in feature_names\n",
    "#using selection column list rather than dot notation\n",
    "X = home_data[feature_names]\n",
    "\n",
    "# Check your answer\n",
    "step_2.check()"
   ]
  },
  {
   "cell_type": "code",
   "execution_count": 6,
   "id": "7b953656",
   "metadata": {
    "collapsed": true,
    "execution": {
     "iopub.execute_input": "2022-06-29T16:16:41.694480Z",
     "iopub.status.busy": "2022-06-29T16:16:41.694190Z",
     "iopub.status.idle": "2022-06-29T16:16:41.698171Z",
     "shell.execute_reply": "2022-06-29T16:16:41.697359Z"
    },
    "jupyter": {
     "outputs_hidden": true
    },
    "papermill": {
     "duration": 0.01424,
     "end_time": "2022-06-29T16:16:41.700300",
     "exception": false,
     "start_time": "2022-06-29T16:16:41.686060",
     "status": "completed"
    },
    "tags": []
   },
   "outputs": [],
   "source": [
    "# step_2.hint()\n",
    "# step_2.solution()"
   ]
  },
  {
   "cell_type": "markdown",
   "id": "9e8066a2",
   "metadata": {
    "papermill": {
     "duration": 0.007022,
     "end_time": "2022-06-29T16:16:41.714801",
     "exception": false,
     "start_time": "2022-06-29T16:16:41.707779",
     "status": "completed"
    },
    "tags": []
   },
   "source": [
    "## Review Data\n",
    "Before building a model, take a quick look at **X** to verify it looks sensible"
   ]
  },
  {
   "cell_type": "code",
   "execution_count": 7,
   "id": "686a9729",
   "metadata": {
    "execution": {
     "iopub.execute_input": "2022-06-29T16:16:41.731239Z",
     "iopub.status.busy": "2022-06-29T16:16:41.730915Z",
     "iopub.status.idle": "2022-06-29T16:16:41.765649Z",
     "shell.execute_reply": "2022-06-29T16:16:41.764486Z"
    },
    "papermill": {
     "duration": 0.045689,
     "end_time": "2022-06-29T16:16:41.767878",
     "exception": false,
     "start_time": "2022-06-29T16:16:41.722189",
     "status": "completed"
    },
    "tags": []
   },
   "outputs": [
    {
     "name": "stdout",
     "output_type": "stream",
     "text": [
      "             LotArea    YearBuilt     1stFlrSF     2ndFlrSF     FullBath  \\\n",
      "count    1460.000000  1460.000000  1460.000000  1460.000000  1460.000000   \n",
      "mean    10516.828082  1971.267808  1162.626712   346.992466     1.565068   \n",
      "std      9981.264932    30.202904   386.587738   436.528436     0.550916   \n",
      "min      1300.000000  1872.000000   334.000000     0.000000     0.000000   \n",
      "25%      7553.500000  1954.000000   882.000000     0.000000     1.000000   \n",
      "50%      9478.500000  1973.000000  1087.000000     0.000000     2.000000   \n",
      "75%     11601.500000  2000.000000  1391.250000   728.000000     2.000000   \n",
      "max    215245.000000  2010.000000  4692.000000  2065.000000     3.000000   \n",
      "\n",
      "       BedroomAbvGr  TotRmsAbvGrd  \n",
      "count   1460.000000   1460.000000  \n",
      "mean       2.866438      6.517808  \n",
      "std        0.815778      1.625393  \n",
      "min        0.000000      2.000000  \n",
      "25%        2.000000      5.000000  \n",
      "50%        3.000000      6.000000  \n",
      "75%        3.000000      7.000000  \n",
      "max        8.000000     14.000000  \n",
      "   LotArea  YearBuilt  1stFlrSF  2ndFlrSF  FullBath  BedroomAbvGr  \\\n",
      "0     8450       2003       856       854         2             3   \n",
      "1     9600       1976      1262         0         2             3   \n",
      "2    11250       2001       920       866         2             3   \n",
      "3     9550       1915       961       756         1             3   \n",
      "4    14260       2000      1145      1053         2             4   \n",
      "\n",
      "   TotRmsAbvGrd  \n",
      "0             8  \n",
      "1             6  \n",
      "2             6  \n",
      "3             7  \n",
      "4             9  \n"
     ]
    }
   ],
   "source": [
    "# Review data\n",
    "# print description or statistics from X\n",
    "print(X.describe())\n",
    "\n",
    "#print the top few lines\n",
    "print(X.head())"
   ]
  },
  {
   "cell_type": "markdown",
   "id": "66ab5eef",
   "metadata": {
    "papermill": {
     "duration": 0.007081,
     "end_time": "2022-06-29T16:16:41.782434",
     "exception": false,
     "start_time": "2022-06-29T16:16:41.775353",
     "status": "completed"
    },
    "tags": []
   },
   "source": [
    "## Step 3: Specify and Fit Model\n",
    "Create a `DecisionTreeRegressor` and save it iowa_model. Ensure you've done the relevant import from sklearn to run this command.\n",
    "\n",
    "Then fit the model you just created using the data in `X` and `y` that you saved above."
   ]
  },
  {
   "cell_type": "code",
   "execution_count": 8,
   "id": "bef52ff3",
   "metadata": {
    "execution": {
     "iopub.execute_input": "2022-06-29T16:16:41.798778Z",
     "iopub.status.busy": "2022-06-29T16:16:41.798372Z",
     "iopub.status.idle": "2022-06-29T16:16:41.818186Z",
     "shell.execute_reply": "2022-06-29T16:16:41.817569Z"
    },
    "papermill": {
     "duration": 0.030106,
     "end_time": "2022-06-29T16:16:41.819912",
     "exception": false,
     "start_time": "2022-06-29T16:16:41.789806",
     "status": "completed"
    },
    "tags": []
   },
   "outputs": [
    {
     "data": {
      "application/javascript": [
       "parent.postMessage({\"jupyterEvent\": \"custom.exercise_interaction\", \"data\": {\"outcomeType\": 1, \"valueTowardsCompletion\": 0.25, \"interactionType\": 1, \"questionType\": 2, \"questionId\": \"3_CreateModel\", \"learnToolsVersion\": \"0.3.4\", \"failureMessage\": \"\", \"exceptionClass\": \"\", \"trace\": \"\"}}, \"*\")"
      ],
      "text/plain": [
       "<IPython.core.display.Javascript object>"
      ]
     },
     "metadata": {},
     "output_type": "display_data"
    },
    {
     "data": {
      "text/markdown": [
       "<span style=\"color:#33cc33\">Correct</span>"
      ],
      "text/plain": [
       "Correct"
      ]
     },
     "metadata": {},
     "output_type": "display_data"
    }
   ],
   "source": [
    "from sklearn.tree import DecisionTreeRegressor\n",
    "#specify the model. \n",
    "#For model reproducibility, set a numeric value for random_state when specifying the model\n",
    "iowa_model = DecisionTreeRegressor(random_state=1)\n",
    "\n",
    "# Fit the model\n",
    "iowa_model.fit(X,y)\n",
    "\n",
    "# Check your answer\n",
    "step_3.check()"
   ]
  },
  {
   "cell_type": "code",
   "execution_count": 9,
   "id": "da7ca9ec",
   "metadata": {
    "collapsed": true,
    "execution": {
     "iopub.execute_input": "2022-06-29T16:16:41.831153Z",
     "iopub.status.busy": "2022-06-29T16:16:41.830895Z",
     "iopub.status.idle": "2022-06-29T16:16:41.834075Z",
     "shell.execute_reply": "2022-06-29T16:16:41.833010Z"
    },
    "jupyter": {
     "outputs_hidden": true
    },
    "papermill": {
     "duration": 0.010771,
     "end_time": "2022-06-29T16:16:41.835637",
     "exception": false,
     "start_time": "2022-06-29T16:16:41.824866",
     "status": "completed"
    },
    "tags": []
   },
   "outputs": [],
   "source": [
    "# step_3.hint()\n",
    "# step_3.solution()"
   ]
  },
  {
   "cell_type": "markdown",
   "id": "00b12a03",
   "metadata": {
    "papermill": {
     "duration": 0.004764,
     "end_time": "2022-06-29T16:16:41.845345",
     "exception": false,
     "start_time": "2022-06-29T16:16:41.840581",
     "status": "completed"
    },
    "tags": []
   },
   "source": [
    "## Step 4: Make Predictions\n",
    "Make predictions with the model's `predict` command using `X` as the data. Save the results to a variable called `predictions`."
   ]
  },
  {
   "cell_type": "code",
   "execution_count": 10,
   "id": "bfc752b9",
   "metadata": {
    "execution": {
     "iopub.execute_input": "2022-06-29T16:16:41.856508Z",
     "iopub.status.busy": "2022-06-29T16:16:41.856214Z",
     "iopub.status.idle": "2022-06-29T16:16:41.870329Z",
     "shell.execute_reply": "2022-06-29T16:16:41.869107Z"
    },
    "papermill": {
     "duration": 0.021816,
     "end_time": "2022-06-29T16:16:41.872260",
     "exception": false,
     "start_time": "2022-06-29T16:16:41.850444",
     "status": "completed"
    },
    "tags": []
   },
   "outputs": [
    {
     "name": "stdout",
     "output_type": "stream",
     "text": [
      "[208500. 181500. 223500. ... 266500. 142125. 147500.]\n"
     ]
    },
    {
     "data": {
      "application/javascript": [
       "parent.postMessage({\"jupyterEvent\": \"custom.exercise_interaction\", \"data\": {\"outcomeType\": 1, \"valueTowardsCompletion\": 0.25, \"interactionType\": 1, \"questionType\": 2, \"questionId\": \"4_MakePredictions\", \"learnToolsVersion\": \"0.3.4\", \"failureMessage\": \"\", \"exceptionClass\": \"\", \"trace\": \"\"}}, \"*\")"
      ],
      "text/plain": [
       "<IPython.core.display.Javascript object>"
      ]
     },
     "metadata": {},
     "output_type": "display_data"
    },
    {
     "data": {
      "text/markdown": [
       "<span style=\"color:#33cc33\">Correct</span>"
      ],
      "text/plain": [
       "Correct"
      ]
     },
     "metadata": {},
     "output_type": "display_data"
    }
   ],
   "source": [
    "predictions = iowa_model.predict(X)\n",
    "\n",
    "print(predictions)\n",
    "\n",
    "# Check your answer\n",
    "step_4.check()"
   ]
  },
  {
   "cell_type": "code",
   "execution_count": 11,
   "id": "054a07ac",
   "metadata": {
    "execution": {
     "iopub.execute_input": "2022-06-29T16:16:41.885830Z",
     "iopub.status.busy": "2022-06-29T16:16:41.884698Z",
     "iopub.status.idle": "2022-06-29T16:16:41.888987Z",
     "shell.execute_reply": "2022-06-29T16:16:41.888286Z"
    },
    "papermill": {
     "duration": 0.012832,
     "end_time": "2022-06-29T16:16:41.891035",
     "exception": false,
     "start_time": "2022-06-29T16:16:41.878203",
     "status": "completed"
    },
    "tags": []
   },
   "outputs": [],
   "source": [
    "# step_4.hint()\n",
    "#step_4.solution()"
   ]
  },
  {
   "cell_type": "markdown",
   "id": "eb001318",
   "metadata": {
    "papermill": {
     "duration": 0.007829,
     "end_time": "2022-06-29T16:16:41.907056",
     "exception": false,
     "start_time": "2022-06-29T16:16:41.899227",
     "status": "completed"
    },
    "tags": []
   },
   "source": [
    "## Think About Your Results\n",
    "\n",
    "Use the `head` method to compare the top few predictions to the actual home values (in `y`) for those same homes. Anything surprising?\n"
   ]
  },
  {
   "cell_type": "code",
   "execution_count": 12,
   "id": "7071bf11",
   "metadata": {
    "execution": {
     "iopub.execute_input": "2022-06-29T16:16:41.924356Z",
     "iopub.status.busy": "2022-06-29T16:16:41.924070Z",
     "iopub.status.idle": "2022-06-29T16:16:41.931167Z",
     "shell.execute_reply": "2022-06-29T16:16:41.930396Z"
    },
    "papermill": {
     "duration": 0.019313,
     "end_time": "2022-06-29T16:16:41.934258",
     "exception": false,
     "start_time": "2022-06-29T16:16:41.914945",
     "status": "completed"
    },
    "tags": []
   },
   "outputs": [
    {
     "name": "stdout",
     "output_type": "stream",
     "text": [
      "[208500. 181500. 223500. 140000. 250000.]\n",
      "0    208500\n",
      "1    181500\n",
      "2    223500\n",
      "3    140000\n",
      "4    250000\n",
      "Name: SalePrice, dtype: int64\n"
     ]
    }
   ],
   "source": [
    "predictions = iowa_model.predict(X.head())\n",
    "print(predictions)\n",
    "\n",
    "print(y.head())"
   ]
  },
  {
   "cell_type": "markdown",
   "id": "5840da5e",
   "metadata": {
    "papermill": {
     "duration": 0.007887,
     "end_time": "2022-06-29T16:16:41.950557",
     "exception": false,
     "start_time": "2022-06-29T16:16:41.942670",
     "status": "completed"
    },
    "tags": []
   },
   "source": [
    "It's natural to ask how accurate the model's predictions will be and how you can improve that. That will be you're next step.\n",
    "\n",
    "# Keep Going\n",
    "\n",
    "You are ready for **[Model Validation](https://www.kaggle.com/dansbecker/model-validation).**\n"
   ]
  },
  {
   "cell_type": "markdown",
   "id": "c01169d0",
   "metadata": {
    "papermill": {
     "duration": 0.008233,
     "end_time": "2022-06-29T16:16:41.967061",
     "exception": false,
     "start_time": "2022-06-29T16:16:41.958828",
     "status": "completed"
    },
    "tags": []
   },
   "source": [
    "---\n",
    "\n",
    "\n",
    "\n",
    "\n",
    "*Have questions or comments? Visit the [course discussion forum](https://www.kaggle.com/learn/intro-to-machine-learning/discussion) to chat with other learners.*"
   ]
  }
 ],
 "metadata": {
  "kernelspec": {
   "display_name": "Python 3",
   "language": "python",
   "name": "python3"
  },
  "language_info": {
   "codemirror_mode": {
    "name": "ipython",
    "version": 3
   },
   "file_extension": ".py",
   "mimetype": "text/x-python",
   "name": "python",
   "nbconvert_exporter": "python",
   "pygments_lexer": "ipython3",
   "version": "3.7.12"
  },
  "papermill": {
   "default_parameters": {},
   "duration": 12.862417,
   "end_time": "2022-06-29T16:16:42.694185",
   "environment_variables": {},
   "exception": null,
   "input_path": "__notebook__.ipynb",
   "output_path": "__notebook__.ipynb",
   "parameters": {},
   "start_time": "2022-06-29T16:16:29.831768",
   "version": "2.3.4"
  }
 },
 "nbformat": 4,
 "nbformat_minor": 5
}
