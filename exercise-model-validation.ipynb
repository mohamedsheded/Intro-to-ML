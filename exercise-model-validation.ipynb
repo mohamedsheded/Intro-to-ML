{
 "cells": [
  {
   "cell_type": "markdown",
   "id": "f03283ae",
   "metadata": {
    "papermill": {
     "duration": 0.005611,
     "end_time": "2022-06-29T17:16:03.635937",
     "exception": false,
     "start_time": "2022-06-29T17:16:03.630326",
     "status": "completed"
    },
    "tags": []
   },
   "source": [
    "**This notebook is an exercise in the [Introduction to Machine Learning](https://www.kaggle.com/learn/intro-to-machine-learning) course.  You can reference the tutorial at [this link](https://www.kaggle.com/dansbecker/model-validation).**\n",
    "\n",
    "---\n"
   ]
  },
  {
   "cell_type": "markdown",
   "id": "27dc530b",
   "metadata": {
    "papermill": {
     "duration": 0.004366,
     "end_time": "2022-06-29T17:16:03.644989",
     "exception": false,
     "start_time": "2022-06-29T17:16:03.640623",
     "status": "completed"
    },
    "tags": []
   },
   "source": [
    "## Recap\n",
    "You've built a model. In this exercise you will test how good your model is.\n",
    "\n",
    "Run the cell below to set up your coding environment where the previous exercise left off."
   ]
  },
  {
   "cell_type": "code",
   "execution_count": 1,
   "id": "90af080f",
   "metadata": {
    "execution": {
     "iopub.execute_input": "2022-06-29T17:16:03.656118Z",
     "iopub.status.busy": "2022-06-29T17:16:03.655584Z",
     "iopub.status.idle": "2022-06-29T17:16:05.544985Z",
     "shell.execute_reply": "2022-06-29T17:16:05.543642Z"
    },
    "papermill": {
     "duration": 1.898705,
     "end_time": "2022-06-29T17:16:05.548186",
     "exception": false,
     "start_time": "2022-06-29T17:16:03.649481",
     "status": "completed"
    },
    "tags": []
   },
   "outputs": [
    {
     "name": "stdout",
     "output_type": "stream",
     "text": [
      "First in-sample predictions: [208500. 181500. 223500. 140000. 250000.]\n",
      "Actual target values for those homes: [208500, 181500, 223500, 140000, 250000]\n",
      "Setup Complete\n"
     ]
    }
   ],
   "source": [
    "# Code you have previously used to load data\n",
    "import pandas as pd\n",
    "from sklearn.tree import DecisionTreeRegressor\n",
    "\n",
    "# Path of the file to read\n",
    "iowa_file_path = '../input/home-data-for-ml-course/train.csv'\n",
    "\n",
    "home_data = pd.read_csv(iowa_file_path)\n",
    "y = home_data.SalePrice\n",
    "feature_columns = ['LotArea', 'YearBuilt', '1stFlrSF', '2ndFlrSF', 'FullBath', 'BedroomAbvGr', 'TotRmsAbvGrd']\n",
    "X = home_data[feature_columns]\n",
    "\n",
    "# Specify Model\n",
    "iowa_model = DecisionTreeRegressor()\n",
    "# Fit Model\n",
    "iowa_model.fit(X, y)\n",
    "\n",
    "print(\"First in-sample predictions:\", iowa_model.predict(X.head()))\n",
    "print(\"Actual target values for those homes:\", y.head().tolist())\n",
    "\n",
    "# Set up code checking\n",
    "from learntools.core import binder\n",
    "binder.bind(globals())\n",
    "from learntools.machine_learning.ex4 import *\n",
    "print(\"Setup Complete\")"
   ]
  },
  {
   "cell_type": "markdown",
   "id": "1eb92810",
   "metadata": {
    "papermill": {
     "duration": 0.006907,
     "end_time": "2022-06-29T17:16:05.561627",
     "exception": false,
     "start_time": "2022-06-29T17:16:05.554720",
     "status": "completed"
    },
    "tags": []
   },
   "source": [
    "# Exercises\n",
    "\n",
    "## Step 1: Split Your Data\n",
    "Use the `train_test_split` function to split up your data.\n",
    "\n",
    "Give it the argument `random_state=1` so the `check` functions know what to expect when verifying your code.\n",
    "\n",
    "Recall, your features are loaded in the DataFrame **X** and your target is loaded in **y**.\n"
   ]
  },
  {
   "cell_type": "code",
   "execution_count": 2,
   "id": "abc3640b",
   "metadata": {
    "execution": {
     "iopub.execute_input": "2022-06-29T17:16:05.577933Z",
     "iopub.status.busy": "2022-06-29T17:16:05.577216Z",
     "iopub.status.idle": "2022-06-29T17:16:05.593500Z",
     "shell.execute_reply": "2022-06-29T17:16:05.592254Z"
    },
    "papermill": {
     "duration": 0.026898,
     "end_time": "2022-06-29T17:16:05.595442",
     "exception": false,
     "start_time": "2022-06-29T17:16:05.568544",
     "status": "completed"
    },
    "tags": []
   },
   "outputs": [
    {
     "data": {
      "application/javascript": [
       "parent.postMessage({\"jupyterEvent\": \"custom.exercise_interaction\", \"data\": {\"outcomeType\": 1, \"valueTowardsCompletion\": 0.25, \"interactionType\": 1, \"questionType\": 2, \"questionId\": \"1_SplitData\", \"learnToolsVersion\": \"0.3.4\", \"failureMessage\": \"\", \"exceptionClass\": \"\", \"trace\": \"\"}}, \"*\")"
      ],
      "text/plain": [
       "<IPython.core.display.Javascript object>"
      ]
     },
     "metadata": {},
     "output_type": "display_data"
    },
    {
     "data": {
      "text/markdown": [
       "<span style=\"color:#33cc33\">Correct</span>"
      ],
      "text/plain": [
       "Correct"
      ]
     },
     "metadata": {},
     "output_type": "display_data"
    }
   ],
   "source": [
    "# Import the train_test_split function and uncomment\n",
    "from sklearn.model_selection import train_test_split\n",
    "\n",
    "\n",
    "# fill in and uncomment\n",
    "train_X, val_X, train_y, val_y = train_test_split(X,y,random_state=1)\n",
    "\n",
    "# Check your answer\n",
    "step_1.check()"
   ]
  },
  {
   "cell_type": "code",
   "execution_count": 3,
   "id": "a58bb00c",
   "metadata": {
    "execution": {
     "iopub.execute_input": "2022-06-29T17:16:05.606967Z",
     "iopub.status.busy": "2022-06-29T17:16:05.606191Z",
     "iopub.status.idle": "2022-06-29T17:16:05.612131Z",
     "shell.execute_reply": "2022-06-29T17:16:05.610837Z"
    },
    "papermill": {
     "duration": 0.015313,
     "end_time": "2022-06-29T17:16:05.615292",
     "exception": false,
     "start_time": "2022-06-29T17:16:05.599979",
     "status": "completed"
    },
    "tags": []
   },
   "outputs": [],
   "source": [
    "# The lines below will show you a hint or the solution.\n",
    "# step_1.hint() \n",
    "#step_1.solution()\n"
   ]
  },
  {
   "cell_type": "markdown",
   "id": "c2e67c8b",
   "metadata": {
    "papermill": {
     "duration": 0.00683,
     "end_time": "2022-06-29T17:16:05.629758",
     "exception": false,
     "start_time": "2022-06-29T17:16:05.622928",
     "status": "completed"
    },
    "tags": []
   },
   "source": [
    "## Step 2: Specify and Fit the Model\n",
    "\n",
    "Create a `DecisionTreeRegressor` model and fit it to the relevant data.\n",
    "Set `random_state` to 1 again when creating the model."
   ]
  },
  {
   "cell_type": "code",
   "execution_count": 4,
   "id": "0211204b",
   "metadata": {
    "execution": {
     "iopub.execute_input": "2022-06-29T17:16:05.646335Z",
     "iopub.status.busy": "2022-06-29T17:16:05.645468Z",
     "iopub.status.idle": "2022-06-29T17:16:05.674825Z",
     "shell.execute_reply": "2022-06-29T17:16:05.672734Z"
    },
    "papermill": {
     "duration": 0.040737,
     "end_time": "2022-06-29T17:16:05.677823",
     "exception": false,
     "start_time": "2022-06-29T17:16:05.637086",
     "status": "completed"
    },
    "tags": []
   },
   "outputs": [
    {
     "name": "stdout",
     "output_type": "stream",
     "text": [
      "[186500. 184000. 130000.  92000. 164500. 220000. 335000. 144152. 215000.\n",
      " 262000.]\n",
      "[186500. 184000. 130000.  92000. 164500. 220000. 335000. 144152. 215000.\n",
      " 262000.]\n"
     ]
    },
    {
     "data": {
      "application/javascript": [
       "parent.postMessage({\"jupyterEvent\": \"custom.exercise_interaction\", \"data\": {\"outcomeType\": 1, \"valueTowardsCompletion\": 0.25, \"interactionType\": 1, \"questionType\": 2, \"questionId\": \"2_FitModelWithTrain\", \"learnToolsVersion\": \"0.3.4\", \"failureMessage\": \"\", \"exceptionClass\": \"\", \"trace\": \"\"}}, \"*\")"
      ],
      "text/plain": [
       "<IPython.core.display.Javascript object>"
      ]
     },
     "metadata": {},
     "output_type": "display_data"
    },
    {
     "data": {
      "text/markdown": [
       "<span style=\"color:#33cc33\">Correct</span>"
      ],
      "text/plain": [
       "Correct"
      ]
     },
     "metadata": {},
     "output_type": "display_data"
    }
   ],
   "source": [
    "# You imported DecisionTreeRegressor in your last exercise\n",
    "# and that code has been copied to the setup code above. So, no need to\n",
    "# import it again\n",
    "\n",
    "# Specify the model\n",
    "iowa_model = DecisionTreeRegressor(random_state=1)\n",
    "\n",
    "# Fit iowa_model with the training data.\n",
    "iowa_model.fit(train_X, train_y)\n",
    "\n",
    "\n",
    "# Check your answer\n",
    "step_2.check()"
   ]
  },
  {
   "cell_type": "code",
   "execution_count": 5,
   "id": "d9f351a6",
   "metadata": {
    "execution": {
     "iopub.execute_input": "2022-06-29T17:16:05.696139Z",
     "iopub.status.busy": "2022-06-29T17:16:05.695608Z",
     "iopub.status.idle": "2022-06-29T17:16:05.699304Z",
     "shell.execute_reply": "2022-06-29T17:16:05.698273Z"
    },
    "papermill": {
     "duration": 0.01583,
     "end_time": "2022-06-29T17:16:05.701628",
     "exception": false,
     "start_time": "2022-06-29T17:16:05.685798",
     "status": "completed"
    },
    "tags": []
   },
   "outputs": [],
   "source": [
    "# step_2.hint()\n",
    "#step_2.solution()"
   ]
  },
  {
   "cell_type": "markdown",
   "id": "6389ec4b",
   "metadata": {
    "papermill": {
     "duration": 0.006691,
     "end_time": "2022-06-29T17:16:05.715575",
     "exception": false,
     "start_time": "2022-06-29T17:16:05.708884",
     "status": "completed"
    },
    "tags": []
   },
   "source": [
    "## Step 3: Make Predictions with Validation data\n"
   ]
  },
  {
   "cell_type": "code",
   "execution_count": 6,
   "id": "33b6a28d",
   "metadata": {
    "execution": {
     "iopub.execute_input": "2022-06-29T17:16:05.732186Z",
     "iopub.status.busy": "2022-06-29T17:16:05.731587Z",
     "iopub.status.idle": "2022-06-29T17:16:05.743270Z",
     "shell.execute_reply": "2022-06-29T17:16:05.741755Z"
    },
    "papermill": {
     "duration": 0.023754,
     "end_time": "2022-06-29T17:16:05.746519",
     "exception": false,
     "start_time": "2022-06-29T17:16:05.722765",
     "status": "completed"
    },
    "tags": []
   },
   "outputs": [
    {
     "data": {
      "application/javascript": [
       "parent.postMessage({\"jupyterEvent\": \"custom.exercise_interaction\", \"data\": {\"outcomeType\": 1, \"valueTowardsCompletion\": 0.25, \"interactionType\": 1, \"questionType\": 2, \"questionId\": \"3_ValPreds\", \"learnToolsVersion\": \"0.3.4\", \"failureMessage\": \"\", \"exceptionClass\": \"\", \"trace\": \"\"}}, \"*\")"
      ],
      "text/plain": [
       "<IPython.core.display.Javascript object>"
      ]
     },
     "metadata": {},
     "output_type": "display_data"
    },
    {
     "data": {
      "text/markdown": [
       "<span style=\"color:#33cc33\">Correct</span>"
      ],
      "text/plain": [
       "Correct"
      ]
     },
     "metadata": {},
     "output_type": "display_data"
    }
   ],
   "source": [
    "# Predict with all validation observations\n",
    "val_predictions = iowa_model.predict(val_X)\n",
    "\n",
    "\n",
    "# Check your answer\n",
    "step_3.check()"
   ]
  },
  {
   "cell_type": "code",
   "execution_count": 7,
   "id": "092bc46e",
   "metadata": {
    "execution": {
     "iopub.execute_input": "2022-06-29T17:16:05.764882Z",
     "iopub.status.busy": "2022-06-29T17:16:05.763385Z",
     "iopub.status.idle": "2022-06-29T17:16:05.768669Z",
     "shell.execute_reply": "2022-06-29T17:16:05.767531Z"
    },
    "papermill": {
     "duration": 0.016883,
     "end_time": "2022-06-29T17:16:05.771029",
     "exception": false,
     "start_time": "2022-06-29T17:16:05.754146",
     "status": "completed"
    },
    "tags": []
   },
   "outputs": [],
   "source": [
    "# step_3.hint()\n",
    "# step_3.solution()"
   ]
  },
  {
   "cell_type": "markdown",
   "id": "86df39de",
   "metadata": {
    "papermill": {
     "duration": 0.007208,
     "end_time": "2022-06-29T17:16:05.786184",
     "exception": false,
     "start_time": "2022-06-29T17:16:05.778976",
     "status": "completed"
    },
    "tags": []
   },
   "source": [
    "Inspect your predictions and actual values from validation data."
   ]
  },
  {
   "cell_type": "code",
   "execution_count": 8,
   "id": "4721592a",
   "metadata": {
    "execution": {
     "iopub.execute_input": "2022-06-29T17:16:05.803357Z",
     "iopub.status.busy": "2022-06-29T17:16:05.802945Z",
     "iopub.status.idle": "2022-06-29T17:16:05.814744Z",
     "shell.execute_reply": "2022-06-29T17:16:05.812572Z"
    },
    "papermill": {
     "duration": 0.022967,
     "end_time": "2022-06-29T17:16:05.816998",
     "exception": false,
     "start_time": "2022-06-29T17:16:05.794031",
     "status": "completed"
    },
    "tags": []
   },
   "outputs": [
    {
     "name": "stdout",
     "output_type": "stream",
     "text": [
      "[186500. 184000. 130000.  92000. 164500. 220000. 335000. 144152. 215000.\n",
      " 262000. 180000. 121000. 175900. 210000. 248900. 131000. 100000. 149350.\n",
      " 235000. 156000. 149900. 265979. 193500. 377500. 100000. 162900. 145000.\n",
      " 180000. 582933. 146000. 140000.  91500. 112500. 113000. 145000. 312500.\n",
      " 110000. 132000. 305000. 128000. 162900. 115000. 110000. 124000. 215200.\n",
      " 180000.  79000. 192000. 282922. 235000. 132000. 325000.  80000. 237000.\n",
      " 208300. 100000. 120500. 162000. 153000. 187000. 185750. 335000. 129000.\n",
      " 124900. 185750. 133700. 127000. 230000. 146800. 157900. 136000. 153575.\n",
      " 335000. 177500. 143000. 202500. 168500. 105000. 305900. 192000. 190000.\n",
      " 140200. 134900. 128950. 213000. 108959. 149500. 190000. 175900. 160000.\n",
      " 250580. 157000. 120500. 147500. 118000. 117000. 110000. 130000. 148500.\n",
      " 148000. 190000. 130500. 127000. 120500. 135000. 168000. 176432. 128000.\n",
      " 147000. 260000. 132000. 129500. 171000. 181134. 227875. 189000. 282922.\n",
      "  94750. 185000. 194000. 159000. 279500. 290000. 135000. 299800. 165000.\n",
      " 394432. 135750. 155000. 212000. 310000. 134800.  84000. 122900.  80000.\n",
      " 191000. 755000. 147000. 248000. 106500. 145000. 359100. 145000. 192500.\n",
      " 149000. 252000. 109000. 215000. 220000. 138500. 185000. 185000. 120500.\n",
      " 181000. 173000. 335000.  67000. 149350.  67000. 156000. 119000. 110500.\n",
      " 184000. 147000. 156000. 171000. 177000. 159000. 125000. 105000. 284000.\n",
      " 167500. 200000. 312500. 213000. 135960. 205000. 237000. 107000. 163000.\n",
      " 132500. 155835. 165500. 138500. 257000. 160000. 394617. 281213. 161000.\n",
      " 127500.  88000. 139000.  89500. 132500. 134800. 335000. 248900. 155000.\n",
      " 147000.  86000. 185000. 200000. 180500. 215200. 319900. 105000. 194000.\n",
      " 340000. 256000. 280000. 186500. 105500. 155000. 133500. 255500. 253000.\n",
      " 130000.  92900. 256000. 100000. 755000. 138500. 168500. 112000. 127000.\n",
      " 109008. 197000. 245500. 171900. 162000. 128000. 173000. 132000. 118000.\n",
      " 235128. 118964. 260000. 116000. 185000. 315750. 236500. 140000. 151500.\n",
      " 184000.  84000. 130000. 154000. 205000. 110000. 151500. 123000. 129500.\n",
      " 173900. 181500. 165500. 106500. 184900.  84500. 377500. 118500. 180000.\n",
      " 190000. 208500. 181000.  98000. 157000. 151500.  84000. 139000. 100000.\n",
      " 161750. 165600. 116000. 118500. 187000. 147000. 112000. 132000. 230000.\n",
      " 128000. 147000. 125000. 145000. 151000. 284000. 221000. 140200. 129000.\n",
      " 290000. 105000.  96500. 310000. 140000. 132000. 203000. 221000. 215200.\n",
      " 214000. 139000.  91500. 148000. 155000. 115000. 180000. 165500. 223000.\n",
      " 139000. 179900. 150000. 185000. 163000. 176000. 127000. 227000. 146000.\n",
      "  99900. 275000. 180500. 180000. 157000. 186500. 179900. 137500. 219500.\n",
      " 155000. 345000. 197000. 205000. 159000. 159434. 156000. 196000. 252678.\n",
      " 255500. 213000. 150900. 143750. 139000. 260000. 189000. 213250. 207500.\n",
      "  80000. 221000. 109500. 155000. 165000. 149350. 204900. 105900. 155000.\n",
      " 176000. 395000. 149700. 147000. 143900. 226700. 176000. 116000. 325300.\n",
      " 133750. 188500. 148500. 284000. 201800.]\n",
      "258     231500\n",
      "267     179500\n",
      "288     122000\n",
      "649      84500\n",
      "1233    142000\n",
      "Name: SalePrice, dtype: int64\n"
     ]
    }
   ],
   "source": [
    "# print the top few validation predictions\n",
    "print(val_predictions)\n",
    "# print the top few actual prices from validation data\n",
    "print(val_y.head())"
   ]
  },
  {
   "cell_type": "markdown",
   "id": "9073275c",
   "metadata": {
    "papermill": {
     "duration": 0.004753,
     "end_time": "2022-06-29T17:16:05.827327",
     "exception": false,
     "start_time": "2022-06-29T17:16:05.822574",
     "status": "completed"
    },
    "tags": []
   },
   "source": [
    "What do you notice that is different from what you saw with in-sample predictions (which are printed after the top code cell in this page).\n",
    "\n",
    "Do you remember why validation predictions differ from in-sample (or training) predictions? This is an important idea from the last lesson.\n",
    "\n",
    "## Step 4: Calculate the Mean Absolute Error in Validation Data\n"
   ]
  },
  {
   "cell_type": "code",
   "execution_count": 9,
   "id": "4b7e87a2",
   "metadata": {
    "execution": {
     "iopub.execute_input": "2022-06-29T17:16:05.839362Z",
     "iopub.status.busy": "2022-06-29T17:16:05.838586Z",
     "iopub.status.idle": "2022-06-29T17:16:05.849916Z",
     "shell.execute_reply": "2022-06-29T17:16:05.848154Z"
    },
    "papermill": {
     "duration": 0.019743,
     "end_time": "2022-06-29T17:16:05.852150",
     "exception": false,
     "start_time": "2022-06-29T17:16:05.832407",
     "status": "completed"
    },
    "tags": []
   },
   "outputs": [
    {
     "name": "stdout",
     "output_type": "stream",
     "text": [
      "29652.931506849316\n"
     ]
    },
    {
     "data": {
      "application/javascript": [
       "parent.postMessage({\"jupyterEvent\": \"custom.exercise_interaction\", \"data\": {\"outcomeType\": 1, \"valueTowardsCompletion\": 0.25, \"interactionType\": 1, \"questionType\": 1, \"questionId\": \"4_MAE\", \"learnToolsVersion\": \"0.3.4\", \"failureMessage\": \"\", \"exceptionClass\": \"\", \"trace\": \"\"}}, \"*\")"
      ],
      "text/plain": [
       "<IPython.core.display.Javascript object>"
      ]
     },
     "metadata": {},
     "output_type": "display_data"
    },
    {
     "data": {
      "text/markdown": [
       "<span style=\"color:#33cc33\">Correct</span>"
      ],
      "text/plain": [
       "Correct"
      ]
     },
     "metadata": {},
     "output_type": "display_data"
    }
   ],
   "source": [
    "from sklearn.metrics import mean_absolute_error\n",
    "val_mae = mean_absolute_error(val_y,val_predictions)\n",
    "\n",
    "# uncomment following line to see the validation_mae\n",
    "print(val_mae)\n",
    "\n",
    "# Check your answer\n",
    "step_4.check()"
   ]
  },
  {
   "cell_type": "code",
   "execution_count": 10,
   "id": "c757c186",
   "metadata": {
    "execution": {
     "iopub.execute_input": "2022-06-29T17:16:05.865506Z",
     "iopub.status.busy": "2022-06-29T17:16:05.864789Z",
     "iopub.status.idle": "2022-06-29T17:16:05.870093Z",
     "shell.execute_reply": "2022-06-29T17:16:05.869243Z"
    },
    "papermill": {
     "duration": 0.015006,
     "end_time": "2022-06-29T17:16:05.872321",
     "exception": false,
     "start_time": "2022-06-29T17:16:05.857315",
     "status": "completed"
    },
    "tags": []
   },
   "outputs": [],
   "source": [
    "# step_4.hint()\n",
    "# step_4.solution()"
   ]
  },
  {
   "cell_type": "markdown",
   "id": "fe4b68f0",
   "metadata": {
    "papermill": {
     "duration": 0.005086,
     "end_time": "2022-06-29T17:16:05.882905",
     "exception": false,
     "start_time": "2022-06-29T17:16:05.877819",
     "status": "completed"
    },
    "tags": []
   },
   "source": [
    "Is that MAE good?  There isn't a general rule for what values are good that applies across applications. But you'll see how to use (and improve) this number in the next step.\n",
    "\n",
    "# Keep Going\n",
    "\n",
    "You are ready for **[Underfitting and Overfitting](https://www.kaggle.com/dansbecker/underfitting-and-overfitting).**\n"
   ]
  },
  {
   "cell_type": "markdown",
   "id": "ac8f11c9",
   "metadata": {
    "papermill": {
     "duration": 0.005148,
     "end_time": "2022-06-29T17:16:05.893572",
     "exception": false,
     "start_time": "2022-06-29T17:16:05.888424",
     "status": "completed"
    },
    "tags": []
   },
   "source": [
    "---\n",
    "\n",
    "\n",
    "\n",
    "\n",
    "*Have questions or comments? Visit the [course discussion forum](https://www.kaggle.com/learn/intro-to-machine-learning/discussion) to chat with other learners.*"
   ]
  }
 ],
 "metadata": {
  "kernelspec": {
   "display_name": "Python 3",
   "language": "python",
   "name": "python3"
  },
  "language_info": {
   "codemirror_mode": {
    "name": "ipython",
    "version": 3
   },
   "file_extension": ".py",
   "mimetype": "text/x-python",
   "name": "python",
   "nbconvert_exporter": "python",
   "pygments_lexer": "ipython3",
   "version": "3.7.12"
  },
  "papermill": {
   "default_parameters": {},
   "duration": 16.544517,
   "end_time": "2022-06-29T17:16:07.025088",
   "environment_variables": {},
   "exception": null,
   "input_path": "__notebook__.ipynb",
   "output_path": "__notebook__.ipynb",
   "parameters": {},
   "start_time": "2022-06-29T17:15:50.480571",
   "version": "2.3.4"
  }
 },
 "nbformat": 4,
 "nbformat_minor": 5
}
